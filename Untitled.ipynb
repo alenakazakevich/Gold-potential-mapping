{
 "cells": [
  {
   "cell_type": "markdown",
   "metadata": {},
   "source": [
    "# 1 Import model generating functions"
   ]
  },
  {
   "cell_type": "code",
   "execution_count": 1,
   "metadata": {},
   "outputs": [
    {
     "name": "stderr",
     "output_type": "stream",
     "text": [
      "Using TensorFlow backend.\n"
     ]
    }
   ],
   "source": [
    "from prospect.models import *\n"
   ]
  },
  {
   "cell_type": "markdown",
   "metadata": {},
   "source": [
    "# Prepare dataset"
   ]
  },
  {
   "cell_type": "code",
   "execution_count": 2,
   "metadata": {},
   "outputs": [],
   "source": [
    "# draw output labels and image library and prepare training, validation and test datasets\n",
    "numeric_df = pd.read_csv('./data/num_data.csv')\n",
    "numeric = numeric_df.values[:,1:3]\n",
    "numeric = MinMaxScaler().fit_transform(numeric)\n",
    "\n",
    "output_df = pd.read_csv('./data/output.csv')\n",
    "output = output_df.values[:,1]\n",
    "\n",
    "img_0 = image_data('./data/img_00')\n",
    "\n",
    "images = np.stack([img_0], -1)/255\n",
    "\n",
    "train_num_x, test_num_x, train_img_x, test_img_x, train_y, test_y = train_test_split(numeric, images, output, test_size=0.1, random_state=42)"
   ]
  },
  {
   "cell_type": "markdown",
   "metadata": {},
   "source": [
    "# 2 Convolutional neural network for prediction of gold mineralisation\n",
    "Here we analyse the performance of custom neural network combining multilayer perceptron (MLP) and convolutional neural network (CNN). This network uses coordinate data and downscaled satellite image at a given location covering ~10x10 km area with spatial resolution of ~340 m. Output is a probability of a site having gold mineralisation in the [0,1] interval"
   ]
  },
  {
   "cell_type": "code",
   "execution_count": 3,
   "metadata": {
    "collapsed": true
   },
   "outputs": [
    {
     "name": "stdout",
     "output_type": "stream",
     "text": [
      "WARNING:tensorflow:From //anaconda3/lib/python3.7/site-packages/keras/backend/tensorflow_backend.py:66: The name tf.get_default_graph is deprecated. Please use tf.compat.v1.get_default_graph instead.\n",
      "\n",
      "WARNING:tensorflow:From //anaconda3/lib/python3.7/site-packages/keras/backend/tensorflow_backend.py:541: The name tf.placeholder is deprecated. Please use tf.compat.v1.placeholder instead.\n",
      "\n",
      "WARNING:tensorflow:From //anaconda3/lib/python3.7/site-packages/keras/backend/tensorflow_backend.py:4432: The name tf.random_uniform is deprecated. Please use tf.random.uniform instead.\n",
      "\n",
      "WARNING:tensorflow:From //anaconda3/lib/python3.7/site-packages/keras/backend/tensorflow_backend.py:4267: The name tf.nn.max_pool is deprecated. Please use tf.nn.max_pool2d instead.\n",
      "\n",
      "WARNING:tensorflow:From //anaconda3/lib/python3.7/site-packages/keras/backend/tensorflow_backend.py:148: The name tf.placeholder_with_default is deprecated. Please use tf.compat.v1.placeholder_with_default instead.\n",
      "\n",
      "WARNING:tensorflow:From //anaconda3/lib/python3.7/site-packages/keras/backend/tensorflow_backend.py:3733: calling dropout (from tensorflow.python.ops.nn_ops) with keep_prob is deprecated and will be removed in a future version.\n",
      "Instructions for updating:\n",
      "Please use `rate` instead of `keep_prob`. Rate should be set to `rate = 1 - keep_prob`.\n",
      "WARNING:tensorflow:From //anaconda3/lib/python3.7/site-packages/keras/optimizers.py:793: The name tf.train.Optimizer is deprecated. Please use tf.compat.v1.train.Optimizer instead.\n",
      "\n",
      "WARNING:tensorflow:From //anaconda3/lib/python3.7/site-packages/keras/backend/tensorflow_backend.py:3657: The name tf.log is deprecated. Please use tf.math.log instead.\n",
      "\n",
      "WARNING:tensorflow:From //anaconda3/lib/python3.7/site-packages/tensorflow/python/ops/nn_impl.py:180: add_dispatch_support.<locals>.wrapper (from tensorflow.python.ops.array_ops) is deprecated and will be removed in a future version.\n",
      "Instructions for updating:\n",
      "Use tf.where in 2.0, which has the same broadcast rule as np.where\n"
     ]
    }
   ],
   "source": [
    "\n",
    "cnn = create_cnn(32, 32, 1) # create CNN taking one band of ASTER satellite imagery\n",
    "mlp = create_mlp(2) # create MLP taking lat/long coordinates as input\n",
    "model = create_mixed([mlp, cnn], False) # combine the output of the two models to build input for claasifyer network"
   ]
  },
  {
   "cell_type": "code",
   "execution_count": 5,
   "metadata": {},
   "outputs": [
    {
     "name": "stdout",
     "output_type": "stream",
     "text": [
      "Train on 36026 samples, validate on 4003 samples\n",
      "Epoch 1/20\n",
      "36026/36026 [==============================] - 19s 518us/step - loss: 0.4499 - acc: 0.8005 - val_loss: 0.4560 - val_acc: 0.8009\n",
      "Epoch 2/20\n",
      "36026/36026 [==============================] - 18s 488us/step - loss: 0.4494 - acc: 0.8018 - val_loss: 0.4584 - val_acc: 0.7974\n",
      "Epoch 3/20\n",
      "36026/36026 [==============================] - 18s 509us/step - loss: 0.4490 - acc: 0.8029 - val_loss: 0.4549 - val_acc: 0.7984\n",
      "Epoch 4/20\n",
      "36026/36026 [==============================] - 18s 495us/step - loss: 0.4502 - acc: 0.8030 - val_loss: 0.4550 - val_acc: 0.8019\n",
      "Epoch 5/20\n",
      "36026/36026 [==============================] - 18s 500us/step - loss: 0.4482 - acc: 0.8038 - val_loss: 0.4534 - val_acc: 0.8049\n",
      "Epoch 6/20\n",
      "36026/36026 [==============================] - 18s 511us/step - loss: 0.4500 - acc: 0.8039 - val_loss: 0.4532 - val_acc: 0.8041\n",
      "Epoch 7/20\n",
      "36026/36026 [==============================] - 18s 506us/step - loss: 0.4462 - acc: 0.8049 - val_loss: 0.4569 - val_acc: 0.8044\n",
      "Epoch 8/20\n",
      "36026/36026 [==============================] - 18s 509us/step - loss: 0.4465 - acc: 0.8055 - val_loss: 0.4533 - val_acc: 0.8071\n",
      "Epoch 9/20\n",
      "36026/36026 [==============================] - 18s 513us/step - loss: 0.4464 - acc: 0.8051 - val_loss: 0.4546 - val_acc: 0.8056\n",
      "Epoch 10/20\n",
      "36026/36026 [==============================] - 19s 514us/step - loss: 0.4448 - acc: 0.8055 - val_loss: 0.4537 - val_acc: 0.8016\n",
      "Epoch 11/20\n",
      "36026/36026 [==============================] - 18s 507us/step - loss: 0.4449 - acc: 0.8071 - val_loss: 0.4506 - val_acc: 0.8064\n",
      "Epoch 12/20\n",
      "36026/36026 [==============================] - 18s 502us/step - loss: 0.4441 - acc: 0.8063 - val_loss: 0.4511 - val_acc: 0.8056\n",
      "Epoch 13/20\n",
      "36026/36026 [==============================] - 18s 500us/step - loss: 0.4435 - acc: 0.8070 - val_loss: 0.4508 - val_acc: 0.8006\n",
      "Epoch 14/20\n",
      "36026/36026 [==============================] - 18s 508us/step - loss: 0.4449 - acc: 0.8066 - val_loss: 0.4501 - val_acc: 0.8014\n",
      "Epoch 15/20\n",
      "36026/36026 [==============================] - 18s 511us/step - loss: 0.4433 - acc: 0.8084 - val_loss: 0.4483 - val_acc: 0.8051\n",
      "Epoch 16/20\n",
      "36026/36026 [==============================] - 19s 529us/step - loss: 0.4421 - acc: 0.8080 - val_loss: 0.4485 - val_acc: 0.7992\n",
      "Epoch 17/20\n",
      "36026/36026 [==============================] - 18s 504us/step - loss: 0.4418 - acc: 0.8089 - val_loss: 0.4499 - val_acc: 0.7997\n",
      "Epoch 18/20\n",
      "36026/36026 [==============================] - 18s 497us/step - loss: 0.4400 - acc: 0.8081 - val_loss: 0.4527 - val_acc: 0.8079\n",
      "Epoch 19/20\n",
      "36026/36026 [==============================] - 17s 483us/step - loss: 0.4445 - acc: 0.8098 - val_loss: 0.4500 - val_acc: 0.8049\n",
      "Epoch 20/20\n",
      "36026/36026 [==============================] - 17s 481us/step - loss: 0.4412 - acc: 0.8091 - val_loss: 0.4482 - val_acc: 0.8016\n"
     ]
    },
    {
     "data": {
      "text/plain": [
       "<keras.callbacks.History at 0x1a38ee9940>"
      ]
     },
     "execution_count": 5,
     "metadata": {},
     "output_type": "execute_result"
    }
   ],
   "source": [
    "#  our final model will accept dnumerical data on the MLP\n",
    "# input and images on the CNN input, outputting a single value (the\n",
    "# probability of gold mineralisation at a given location)\n",
    "model.fit([train_num_x, train_img_x], train_y,\n",
    "    validation_data=( [test_num_x, test_img_x], test_y),\n",
    "    epochs=20, batch_size=256)"
   ]
  },
  {
   "cell_type": "markdown",
   "metadata": {},
   "source": [
    "# 3 Preliminary results.\n",
    "Final accuracy score for the network is 80%. This result indicates that the inputs that we used can be indicative of gold mineralisation. However we need to further validate the performance of the model components. We might conjecture, for example, that using coordinate data for training can be misleading as neural network could easily generalise to interpolate the information on gold mineralisation in between the training data points. \n",
    "\n",
    "In further work, predictive capabilities of the model will be validated for CNN and MLP separately to investigate the dominant source of information. Additionaly, the results of classification using more spectral bands from the ASTER satellite will be shown in this notebook below. "
   ]
  },
  {
   "cell_type": "code",
   "execution_count": null,
   "metadata": {},
   "outputs": [],
   "source": []
  }
 ],
 "metadata": {
  "kernelspec": {
   "display_name": "Python 3",
   "language": "python",
   "name": "python3"
  },
  "language_info": {
   "codemirror_mode": {
    "name": "ipython",
    "version": 3
   },
   "file_extension": ".py",
   "mimetype": "text/x-python",
   "name": "python",
   "nbconvert_exporter": "python",
   "pygments_lexer": "ipython3",
   "version": "3.7.3"
  }
 },
 "nbformat": 4,
 "nbformat_minor": 2
}
